{
 "cells": [
  {
   "cell_type": "code",
   "execution_count": 32,
   "metadata": {},
   "outputs": [],
   "source": [
    "import requests\n",
    "import pandas as pd\n",
    "import json\n",
    "import sqlite3\n",
    "from datetime import datetime"
   ]
  },
  {
   "attachments": {},
   "cell_type": "markdown",
   "metadata": {},
   "source": [
    "Feature 1: Read 2 types of data into the analysis. API request pulling JSON data = 1st data pull. "
   ]
  },
  {
   "cell_type": "code",
   "execution_count": 33,
   "metadata": {},
   "outputs": [],
   "source": [
    "r = requests.get('https://collectionapi.metmuseum.org/public/collection/v1/departments')"
   ]
  },
  {
   "cell_type": "markdown",
   "metadata": {},
   "source": [
    "creating a variable to store the data"
   ]
  },
  {
   "cell_type": "code",
   "execution_count": 34,
   "metadata": {},
   "outputs": [],
   "source": [
    "art_data = r.json()"
   ]
  },
  {
   "cell_type": "code",
   "execution_count": 35,
   "metadata": {},
   "outputs": [],
   "source": [
    "df = pd.DataFrame(art_data)"
   ]
  },
  {
   "cell_type": "code",
   "execution_count": 36,
   "metadata": {},
   "outputs": [
    {
     "data": {
      "text/html": [
       "<div>\n",
       "<style scoped>\n",
       "    .dataframe tbody tr th:only-of-type {\n",
       "        vertical-align: middle;\n",
       "    }\n",
       "\n",
       "    .dataframe tbody tr th {\n",
       "        vertical-align: top;\n",
       "    }\n",
       "\n",
       "    .dataframe thead th {\n",
       "        text-align: right;\n",
       "    }\n",
       "</style>\n",
       "<table border=\"1\" class=\"dataframe\">\n",
       "  <thead>\n",
       "    <tr style=\"text-align: right;\">\n",
       "      <th></th>\n",
       "      <th>departments</th>\n",
       "    </tr>\n",
       "  </thead>\n",
       "  <tbody>\n",
       "    <tr>\n",
       "      <th>0</th>\n",
       "      <td>{'departmentId': 1, 'displayName': 'American D...</td>\n",
       "    </tr>\n",
       "    <tr>\n",
       "      <th>1</th>\n",
       "      <td>{'departmentId': 3, 'displayName': 'Ancient Ne...</td>\n",
       "    </tr>\n",
       "    <tr>\n",
       "      <th>2</th>\n",
       "      <td>{'departmentId': 4, 'displayName': 'Arms and A...</td>\n",
       "    </tr>\n",
       "    <tr>\n",
       "      <th>3</th>\n",
       "      <td>{'departmentId': 5, 'displayName': 'Arts of Af...</td>\n",
       "    </tr>\n",
       "    <tr>\n",
       "      <th>4</th>\n",
       "      <td>{'departmentId': 6, 'displayName': 'Asian Art'}</td>\n",
       "    </tr>\n",
       "  </tbody>\n",
       "</table>\n",
       "</div>"
      ],
      "text/plain": [
       "                                         departments\n",
       "0  {'departmentId': 1, 'displayName': 'American D...\n",
       "1  {'departmentId': 3, 'displayName': 'Ancient Ne...\n",
       "2  {'departmentId': 4, 'displayName': 'Arms and A...\n",
       "3  {'departmentId': 5, 'displayName': 'Arts of Af...\n",
       "4    {'departmentId': 6, 'displayName': 'Asian Art'}"
      ]
     },
     "execution_count": 36,
     "metadata": {},
     "output_type": "execute_result"
    }
   ],
   "source": [
    "df.head()"
   ]
  },
  {
   "cell_type": "code",
   "execution_count": 37,
   "metadata": {},
   "outputs": [
    {
     "data": {
      "text/html": [
       "<div>\n",
       "<style scoped>\n",
       "    .dataframe tbody tr th:only-of-type {\n",
       "        vertical-align: middle;\n",
       "    }\n",
       "\n",
       "    .dataframe tbody tr th {\n",
       "        vertical-align: top;\n",
       "    }\n",
       "\n",
       "    .dataframe thead th {\n",
       "        text-align: right;\n",
       "    }\n",
       "</style>\n",
       "<table border=\"1\" class=\"dataframe\">\n",
       "  <thead>\n",
       "    <tr style=\"text-align: right;\">\n",
       "      <th></th>\n",
       "      <th>departments</th>\n",
       "    </tr>\n",
       "  </thead>\n",
       "  <tbody>\n",
       "    <tr>\n",
       "      <th>count</th>\n",
       "      <td>19</td>\n",
       "    </tr>\n",
       "    <tr>\n",
       "      <th>unique</th>\n",
       "      <td>19</td>\n",
       "    </tr>\n",
       "    <tr>\n",
       "      <th>top</th>\n",
       "      <td>{'departmentId': 1, 'displayName': 'American D...</td>\n",
       "    </tr>\n",
       "    <tr>\n",
       "      <th>freq</th>\n",
       "      <td>1</td>\n",
       "    </tr>\n",
       "  </tbody>\n",
       "</table>\n",
       "</div>"
      ],
      "text/plain": [
       "                                              departments\n",
       "count                                                  19\n",
       "unique                                                 19\n",
       "top     {'departmentId': 1, 'displayName': 'American D...\n",
       "freq                                                    1"
      ]
     },
     "execution_count": 37,
     "metadata": {},
     "output_type": "execute_result"
    }
   ],
   "source": [
    "df.describe()"
   ]
  },
  {
   "cell_type": "markdown",
   "metadata": {},
   "source": [
    "We have 19 unique departments to pull data from. What are they?"
   ]
  },
  {
   "cell_type": "code",
   "execution_count": 38,
   "metadata": {},
   "outputs": [
    {
     "name": "stdout",
     "output_type": "stream",
     "text": [
      "                                          departments\n",
      "0   {'departmentId': 1, 'displayName': 'American D...\n",
      "1   {'departmentId': 3, 'displayName': 'Ancient Ne...\n",
      "2   {'departmentId': 4, 'displayName': 'Arms and A...\n",
      "3   {'departmentId': 5, 'displayName': 'Arts of Af...\n",
      "4     {'departmentId': 6, 'displayName': 'Asian Art'}\n",
      "5   {'departmentId': 7, 'displayName': 'The Cloist...\n",
      "6   {'departmentId': 8, 'displayName': 'The Costum...\n",
      "7   {'departmentId': 9, 'displayName': 'Drawings a...\n",
      "8   {'departmentId': 10, 'displayName': 'Egyptian ...\n",
      "9   {'departmentId': 11, 'displayName': 'European ...\n",
      "10  {'departmentId': 12, 'displayName': 'European ...\n",
      "11  {'departmentId': 13, 'displayName': 'Greek and...\n",
      "12  {'departmentId': 14, 'displayName': 'Islamic A...\n",
      "13  {'departmentId': 15, 'displayName': 'The Rober...\n",
      "14  {'departmentId': 16, 'displayName': 'The Libra...\n",
      "15  {'departmentId': 17, 'displayName': 'Medieval ...\n",
      "16  {'departmentId': 18, 'displayName': 'Musical I...\n",
      "17  {'departmentId': 19, 'displayName': 'Photograp...\n",
      "18  {'departmentId': 21, 'displayName': 'Modern Art'}\n"
     ]
    }
   ],
   "source": [
    "print (df)"
   ]
  },
  {
   "attachments": {},
   "cell_type": "markdown",
   "metadata": {},
   "source": [
    "Okay. I think I want to work with a specific collection next. Medieval Art sounds interesting. Department ID #17. Let's pull that one next. \n",
    "Feature 1, Part 2: 2nd API pull for JSON data. "
   ]
  },
  {
   "cell_type": "code",
   "execution_count": 39,
   "metadata": {},
   "outputs": [],
   "source": [
    "r2 = requests.get('https://collectionapi.metmuseum.org/public/collection/v1/objects?departmentIds=17')"
   ]
  },
  {
   "cell_type": "code",
   "execution_count": 40,
   "metadata": {},
   "outputs": [],
   "source": [
    "art_data2=r2.json()"
   ]
  },
  {
   "cell_type": "markdown",
   "metadata": {},
   "source": [
    "Create another variable to store this new df. "
   ]
  },
  {
   "cell_type": "code",
   "execution_count": 41,
   "metadata": {},
   "outputs": [],
   "source": [
    "df2 = pd.DataFrame(art_data2)"
   ]
  },
  {
   "cell_type": "markdown",
   "metadata": {},
   "source": [
    "Let's see what we have to work with. "
   ]
  },
  {
   "cell_type": "code",
   "execution_count": 42,
   "metadata": {},
   "outputs": [
    {
     "data": {
      "text/html": [
       "<div>\n",
       "<style scoped>\n",
       "    .dataframe tbody tr th:only-of-type {\n",
       "        vertical-align: middle;\n",
       "    }\n",
       "\n",
       "    .dataframe tbody tr th {\n",
       "        vertical-align: top;\n",
       "    }\n",
       "\n",
       "    .dataframe thead th {\n",
       "        text-align: right;\n",
       "    }\n",
       "</style>\n",
       "<table border=\"1\" class=\"dataframe\">\n",
       "  <thead>\n",
       "    <tr style=\"text-align: right;\">\n",
       "      <th></th>\n",
       "      <th>total</th>\n",
       "      <th>objectIDs</th>\n",
       "    </tr>\n",
       "  </thead>\n",
       "  <tbody>\n",
       "    <tr>\n",
       "      <th>0</th>\n",
       "      <td>7142</td>\n",
       "      <td>157612</td>\n",
       "    </tr>\n",
       "    <tr>\n",
       "      <th>1</th>\n",
       "      <td>7142</td>\n",
       "      <td>463092</td>\n",
       "    </tr>\n",
       "    <tr>\n",
       "      <th>2</th>\n",
       "      <td>7142</td>\n",
       "      <td>463093</td>\n",
       "    </tr>\n",
       "    <tr>\n",
       "      <th>3</th>\n",
       "      <td>7142</td>\n",
       "      <td>463094</td>\n",
       "    </tr>\n",
       "    <tr>\n",
       "      <th>4</th>\n",
       "      <td>7142</td>\n",
       "      <td>463095</td>\n",
       "    </tr>\n",
       "  </tbody>\n",
       "</table>\n",
       "</div>"
      ],
      "text/plain": [
       "   total  objectIDs\n",
       "0   7142     157612\n",
       "1   7142     463092\n",
       "2   7142     463093\n",
       "3   7142     463094\n",
       "4   7142     463095"
      ]
     },
     "execution_count": 42,
     "metadata": {},
     "output_type": "execute_result"
    }
   ],
   "source": [
    "df2.head()"
   ]
  },
  {
   "cell_type": "markdown",
   "metadata": {},
   "source": [
    "There are 7142 items in this collection. "
   ]
  },
  {
   "cell_type": "code",
   "execution_count": 43,
   "metadata": {},
   "outputs": [
    {
     "data": {
      "text/html": [
       "<div>\n",
       "<style scoped>\n",
       "    .dataframe tbody tr th:only-of-type {\n",
       "        vertical-align: middle;\n",
       "    }\n",
       "\n",
       "    .dataframe tbody tr th {\n",
       "        vertical-align: top;\n",
       "    }\n",
       "\n",
       "    .dataframe thead th {\n",
       "        text-align: right;\n",
       "    }\n",
       "</style>\n",
       "<table border=\"1\" class=\"dataframe\">\n",
       "  <thead>\n",
       "    <tr style=\"text-align: right;\">\n",
       "      <th></th>\n",
       "      <th>total</th>\n",
       "      <th>objectIDs</th>\n",
       "    </tr>\n",
       "  </thead>\n",
       "  <tbody>\n",
       "    <tr>\n",
       "      <th>7137</th>\n",
       "      <td>7142</td>\n",
       "      <td>818468</td>\n",
       "    </tr>\n",
       "    <tr>\n",
       "      <th>7138</th>\n",
       "      <td>7142</td>\n",
       "      <td>818469</td>\n",
       "    </tr>\n",
       "    <tr>\n",
       "      <th>7139</th>\n",
       "      <td>7142</td>\n",
       "      <td>818574</td>\n",
       "    </tr>\n",
       "    <tr>\n",
       "      <th>7140</th>\n",
       "      <td>7142</td>\n",
       "      <td>852383</td>\n",
       "    </tr>\n",
       "    <tr>\n",
       "      <th>7141</th>\n",
       "      <td>7142</td>\n",
       "      <td>852384</td>\n",
       "    </tr>\n",
       "  </tbody>\n",
       "</table>\n",
       "</div>"
      ],
      "text/plain": [
       "      total  objectIDs\n",
       "7137   7142     818468\n",
       "7138   7142     818469\n",
       "7139   7142     818574\n",
       "7140   7142     852383\n",
       "7141   7142     852384"
      ]
     },
     "execution_count": 43,
     "metadata": {},
     "output_type": "execute_result"
    }
   ],
   "source": [
    "df2.tail()"
   ]
  },
  {
   "cell_type": "markdown",
   "metadata": {},
   "source": [
    "Let's pull info on a random object in this collection. "
   ]
  },
  {
   "cell_type": "code",
   "execution_count": 44,
   "metadata": {},
   "outputs": [],
   "source": [
    "r3=requests.get('https://collectionapi.metmuseum.org/public/collection/v1/objects/812961')\n"
   ]
  },
  {
   "cell_type": "code",
   "execution_count": 45,
   "metadata": {},
   "outputs": [],
   "source": [
    "object_data=r3.json()"
   ]
  },
  {
   "cell_type": "markdown",
   "metadata": {},
   "source": [
    "What info is available for this random object?"
   ]
  },
  {
   "cell_type": "code",
   "execution_count": 46,
   "metadata": {},
   "outputs": [
    {
     "name": "stdout",
     "output_type": "stream",
     "text": [
      "{'objectID': 812961, 'isHighlight': False, 'accessionNumber': '2018.913.5', 'accessionYear': '2018', 'isPublicDomain': True, 'primaryImage': 'https://images.metmuseum.org/CRDImages/md/original/LC_TR_311_6_2018-s01.jpg', 'primaryImageSmall': 'https://images.metmuseum.org/CRDImages/md/web-large/LC_TR_311_6_2018-s01.jpg', 'additionalImages': [], 'constituents': None, 'department': 'Medieval Art', 'objectName': 'Textile', 'title': 'Wool Roundel with Mythological Animal', 'culture': 'Egyptian', 'period': '', 'dynasty': '', 'reign': '', 'portfolio': '', 'artistRole': '', 'artistPrefix': '', 'artistDisplayName': '', 'artistDisplayBio': '', 'artistSuffix': '', 'artistAlphaSort': '', 'artistNationality': '', 'artistBeginDate': '', 'artistEndDate': '', 'artistGender': '', 'artistWikidata_URL': '', 'artistULAN_URL': '', 'objectDate': '7th–9th century', 'objectBeginDate': 600, 'objectEndDate': 900, 'medium': 'Polychrome wool and undyed linen; tapestry weave', 'dimensions': '8 3/8 × 5 3/16 in. (21.3 × 13.1 cm)\\r\\nMount: 11 5/8 × 8 1/16 × 1 3/16 in. (29.5 × 20.4 × 3 cm)', 'measurements': [{'elementName': 'Overall', 'elementDescription': None, 'elementMeasurements': {'Height': 21.3, 'Width': 13.1}}, {'elementName': 'Mount', 'elementDescription': None, 'elementMeasurements': {'Depth': 3, 'Height': 29.5, 'Width': 20.4}}], 'creditLine': 'Gift of Dr. Marilyn Jenkins-Madina, in loving memory of her husband, Professor Maan Z. Madina, 2018', 'geographyType': '', 'city': '', 'state': '', 'county': '', 'country': '', 'region': '', 'subregion': '', 'locale': '', 'locus': '', 'excavation': '', 'river': '', 'classification': 'Textiles-Woven', 'rightsAndReproduction': '', 'linkResource': '', 'metadataDate': '2020-03-31T04:44:12.95Z', 'repository': 'Metropolitan Museum of Art, New York, NY', 'objectURL': 'https://www.metmuseum.org/art/collection/search/812961', 'tags': None, 'objectWikidata_URL': '', 'isTimelineWork': False, 'GalleryNumber': ''}\n"
     ]
    }
   ],
   "source": [
    "print(object_data)"
   ]
  },
  {
   "attachments": {},
   "cell_type": "markdown",
   "metadata": {},
   "source": [
    "How do I see all the objects listed as 'Egyptian' culture within the Medieval Art dataset? Let's try some SQL. \n",
    "Feature 2: Create SQL database to work with data. "
   ]
  },
  {
   "cell_type": "code",
   "execution_count": 47,
   "metadata": {},
   "outputs": [],
   "source": [
    "conn = sqlite3.connect('art_data2')"
   ]
  },
  {
   "cell_type": "markdown",
   "metadata": {},
   "source": [
    "Added a SQL connection and created a database file \"art_data2\"."
   ]
  },
  {
   "cell_type": "code",
   "execution_count": 48,
   "metadata": {},
   "outputs": [],
   "source": [
    "cursor = conn.cursor()"
   ]
  },
  {
   "cell_type": "markdown",
   "metadata": {},
   "source": [
    "Create empty SQLite table"
   ]
  },
  {
   "cell_type": "code",
   "execution_count": 49,
   "metadata": {},
   "outputs": [],
   "source": [
    "art_stuff = \"\"\"CREATE TABLE art_stuff (\n",
    "    objectID INTEGER PRIMARY KEY,\n",
    "    isHighlight VARCHAR(255),\n",
    "    accessionNumber VARCHAR(255),\n",
    "    accessionYear VARCHAR(255),\n",
    "    isPublicDomain VARCHAR(255),\n",
    "    primaryImage VARCHAR(255),\n",
    "    primaryImageSmall VARCHAR(255),\n",
    "    additionalImagesVARCHAR(255),\n",
    "    constituents VARCHAR(255),\n",
    "    department VARCHAR(255),\n",
    "    objectName VARCHAR(255),\n",
    "    title VARCHAR(255),\n",
    "    culture VARCHAR(255),\n",
    "    period VARCHAR(255),\n",
    "    dynasty VARCHAR(255),\n",
    "    reign VARCHAR(255),\n",
    "    portfolio VARCHAR(255),\n",
    "    artistRole VARCHAR(255),\n",
    "    artistPrefix VARCHAR(255),\n",
    "    artistDisplayName VARCHAR(255),\n",
    "    artistDisplayBio VARCHAR(255),\n",
    "    artistSuffix VARCHAR(255),\n",
    "    artistAlphaSort VARCHAR(255),\n",
    "    artistNationality VARCHAR(255),\n",
    "    artistBeginDate VARCHAR(255),\n",
    "    artistEndDate VARCHAR(255),\n",
    "    artistGender VARCHAR(255),\n",
    "    artistWikidata_URL VARCHAR(255),\n",
    "    artistULAN_URL VARCHAR(255),\n",
    "    objectDate VARCHAR(255),\n",
    "    objectBeginDate VARCHAR(255),\n",
    "    objectEndDate VARCHAR(255),\n",
    "    medium VARCHAR(255),\n",
    "    dimensions VARCHAR(255),\n",
    "    measurements VARCHAR(255),\n",
    "    creditLine VARCHAR(255),\n",
    "    geographyType VARCHAR(255),\n",
    "    city VARCHAR(255),\n",
    "    state VARCHAR(255),\n",
    "    county VARCHAR(255),\n",
    "    country VARCHAR(255),\n",
    "    region VARCHAR(255),\n",
    "    subregion VARCHAR(255),\n",
    "    locale VARCHAR(255),\n",
    "    locus VARCHAR(255),\n",
    "    excavation VARCHAR(255),\n",
    "    river VARCHAR(255),\n",
    "    classification VARCHAR(255),\n",
    "    rightsAndReproduction VARCHAR(255),\n",
    "    linkResource VARCHAR(255),\n",
    "    metadataDate VARCHAR(255),\n",
    "    repository VARCHAR(255),\n",
    "    objectURL VARCHAR(255),\n",
    "    tags VARCHAR(255),\n",
    "    objectWikidata_URL VARCHAR(255),\n",
    "    isTimelineWork VARCHAR(255),\n",
    "    GalleryNumber VARCHAR(255);\"\"\"\n",
    "\n"
   ]
  },
  {
   "cell_type": "markdown",
   "metadata": {},
   "source": [
    "Add all the data from the Medieval Art dataset to the empty sql database we just created."
   ]
  },
  {
   "cell_type": "code",
   "execution_count": 50,
   "metadata": {},
   "outputs": [
    {
     "data": {
      "text/plain": [
       "7142"
      ]
     },
     "execution_count": 50,
     "metadata": {},
     "output_type": "execute_result"
    }
   ],
   "source": [
    "df2.to_sql(art_stuff, conn, if_exists='append', index=False)\n"
   ]
  },
  {
   "attachments": {},
   "cell_type": "markdown",
   "metadata": {},
   "source": [
    "It has all 7142 items in the new sql database. I can close this SQL connection for now. "
   ]
  },
  {
   "cell_type": "code",
   "execution_count": 51,
   "metadata": {},
   "outputs": [],
   "source": [
    "cursor.close()"
   ]
  },
  {
   "attachments": {},
   "cell_type": "markdown",
   "metadata": {},
   "source": [
    "Adding another dataset in to this analysis next. Pulling \"The Cloisters\" next."
   ]
  },
  {
   "cell_type": "code",
   "execution_count": 52,
   "metadata": {},
   "outputs": [],
   "source": [
    "cloister = requests.get('https://collectionapi.metmuseum.org/public/collection/v1/objects?departmentIds=7')"
   ]
  },
  {
   "cell_type": "code",
   "execution_count": 53,
   "metadata": {},
   "outputs": [],
   "source": [
    "cloister_data = cloister.json()"
   ]
  },
  {
   "cell_type": "code",
   "execution_count": 54,
   "metadata": {},
   "outputs": [],
   "source": [
    "cloister_df = pd.DataFrame(cloister_data)"
   ]
  },
  {
   "cell_type": "code",
   "execution_count": 55,
   "metadata": {},
   "outputs": [
    {
     "data": {
      "text/html": [
       "<div>\n",
       "<style scoped>\n",
       "    .dataframe tbody tr th:only-of-type {\n",
       "        vertical-align: middle;\n",
       "    }\n",
       "\n",
       "    .dataframe tbody tr th {\n",
       "        vertical-align: top;\n",
       "    }\n",
       "\n",
       "    .dataframe thead th {\n",
       "        text-align: right;\n",
       "    }\n",
       "</style>\n",
       "<table border=\"1\" class=\"dataframe\">\n",
       "  <thead>\n",
       "    <tr style=\"text-align: right;\">\n",
       "      <th></th>\n",
       "      <th>total</th>\n",
       "      <th>objectIDs</th>\n",
       "    </tr>\n",
       "  </thead>\n",
       "  <tbody>\n",
       "    <tr>\n",
       "      <th>0</th>\n",
       "      <td>2340</td>\n",
       "      <td>465946</td>\n",
       "    </tr>\n",
       "    <tr>\n",
       "      <th>1</th>\n",
       "      <td>2340</td>\n",
       "      <td>465950</td>\n",
       "    </tr>\n",
       "    <tr>\n",
       "      <th>2</th>\n",
       "      <td>2340</td>\n",
       "      <td>465954</td>\n",
       "    </tr>\n",
       "    <tr>\n",
       "      <th>3</th>\n",
       "      <td>2340</td>\n",
       "      <td>465955</td>\n",
       "    </tr>\n",
       "    <tr>\n",
       "      <th>4</th>\n",
       "      <td>2340</td>\n",
       "      <td>465956</td>\n",
       "    </tr>\n",
       "  </tbody>\n",
       "</table>\n",
       "</div>"
      ],
      "text/plain": [
       "   total  objectIDs\n",
       "0   2340     465946\n",
       "1   2340     465950\n",
       "2   2340     465954\n",
       "3   2340     465955\n",
       "4   2340     465956"
      ]
     },
     "execution_count": 55,
     "metadata": {},
     "output_type": "execute_result"
    }
   ],
   "source": [
    "cloister_df.head()"
   ]
  },
  {
   "attachments": {},
   "cell_type": "markdown",
   "metadata": {},
   "source": [
    "We have another 2340 items in this set to work with. Let's pull another random one to see some data. "
   ]
  },
  {
   "cell_type": "code",
   "execution_count": 56,
   "metadata": {},
   "outputs": [],
   "source": [
    "cloister_item=requests.get('https://collectionapi.metmuseum.org/public/collection/v1/objects/470654')"
   ]
  },
  {
   "cell_type": "code",
   "execution_count": 57,
   "metadata": {},
   "outputs": [],
   "source": [
    "object_data2=cloister_item.json()"
   ]
  },
  {
   "cell_type": "code",
   "execution_count": 58,
   "metadata": {},
   "outputs": [
    {
     "name": "stdout",
     "output_type": "stream",
     "text": [
      "{'objectID': 470654, 'isHighlight': False, 'accessionNumber': '25.120.1058', 'accessionYear': '1925', 'isPublicDomain': True, 'primaryImage': 'https://images.metmuseum.org/CRDImages/cl/original/sf25-120-1058ab.jpg', 'primaryImageSmall': 'https://images.metmuseum.org/CRDImages/cl/web-large/sf25-120-1058ab.jpg', 'additionalImages': [], 'constituents': None, 'department': 'The Cloisters', 'objectName': 'Support bar', 'title': 'Support Bar', 'culture': 'French', 'period': '', 'dynasty': '', 'reign': '', 'portfolio': '', 'artistRole': '', 'artistPrefix': '', 'artistDisplayName': '', 'artistDisplayBio': '', 'artistSuffix': '', 'artistAlphaSort': '', 'artistNationality': '', 'artistBeginDate': '', 'artistEndDate': '', 'artistGender': '', 'artistWikidata_URL': '', 'artistULAN_URL': '', 'objectDate': 'ca. 1600', 'objectBeginDate': 1595, 'objectEndDate': 1605, 'medium': 'Iron', 'dimensions': 'Overall: 44 1/2 in. (113 cm)', 'measurements': [{'elementName': 'Overall', 'elementDescription': None, 'elementMeasurements': {'Length': 113.0302}}], 'creditLine': 'The Cloisters Collection, 1925', 'geographyType': '', 'city': '', 'state': '', 'county': '', 'country': '', 'region': '', 'subregion': '', 'locale': '', 'locus': '', 'excavation': '', 'river': '', 'classification': 'Metalwork-Iron', 'rightsAndReproduction': '', 'linkResource': '', 'metadataDate': '2021-06-12T04:40:16.533Z', 'repository': 'Metropolitan Museum of Art, New York, NY', 'objectURL': 'https://www.metmuseum.org/art/collection/search/470654', 'tags': None, 'objectWikidata_URL': '', 'isTimelineWork': False, 'GalleryNumber': ''}\n"
     ]
    }
   ],
   "source": [
    "print(object_data2)"
   ]
  },
  {
   "attachments": {},
   "cell_type": "markdown",
   "metadata": {},
   "source": [
    "So I have no idea what this thing is. \"Support Bar\" is what it's called. Neat. It's French. Also neat. "
   ]
  },
  {
   "cell_type": "code",
   "execution_count": 59,
   "metadata": {},
   "outputs": [],
   "source": [
    "conn = sqlite3.connect('art_data2')\n",
    "cursor = conn.cursor()"
   ]
  },
  {
   "cell_type": "code",
   "execution_count": 60,
   "metadata": {},
   "outputs": [
    {
     "data": {
      "text/plain": [
       "2340"
      ]
     },
     "execution_count": 60,
     "metadata": {},
     "output_type": "execute_result"
    }
   ],
   "source": [
    "cloister_df.to_sql(art_stuff, conn, if_exists='append', index=False)"
   ]
  }
 ],
 "metadata": {
  "kernelspec": {
   "display_name": "Python 3.10.7 64-bit",
   "language": "python",
   "name": "python3"
  },
  "language_info": {
   "codemirror_mode": {
    "name": "ipython",
    "version": 3
   },
   "file_extension": ".py",
   "mimetype": "text/x-python",
   "name": "python",
   "nbconvert_exporter": "python",
   "pygments_lexer": "ipython3",
   "version": "3.10.7"
  },
  "orig_nbformat": 4,
  "vscode": {
   "interpreter": {
    "hash": "2e9c25df0253b19710fd2eabc0119b804c820fc74e8ba938ebab686d76fc4dfb"
   }
  }
 },
 "nbformat": 4,
 "nbformat_minor": 2
}
