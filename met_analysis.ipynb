{
 "cells": [
  {
   "cell_type": "code",
   "execution_count": 3,
   "metadata": {},
   "outputs": [],
   "source": [
    "import requests\n",
    "import pandas as pd\n",
    "import json"
   ]
  },
  {
   "cell_type": "code",
   "execution_count": 4,
   "metadata": {},
   "outputs": [],
   "source": [
    "r = requests.get('https://collectionapi.metmuseum.org/public/collection/v1/departments')"
   ]
  },
  {
   "cell_type": "markdown",
   "metadata": {},
   "source": [
    "creating a variable to store the data"
   ]
  },
  {
   "cell_type": "code",
   "execution_count": 5,
   "metadata": {},
   "outputs": [],
   "source": [
    "art_data = r.json()"
   ]
  },
  {
   "cell_type": "code",
   "execution_count": 17,
   "metadata": {},
   "outputs": [],
   "source": [
    "df = pd.DataFrame(art_data)"
   ]
  },
  {
   "cell_type": "code",
   "execution_count": 18,
   "metadata": {},
   "outputs": [
    {
     "data": {
      "text/html": [
       "<div>\n",
       "<style scoped>\n",
       "    .dataframe tbody tr th:only-of-type {\n",
       "        vertical-align: middle;\n",
       "    }\n",
       "\n",
       "    .dataframe tbody tr th {\n",
       "        vertical-align: top;\n",
       "    }\n",
       "\n",
       "    .dataframe thead th {\n",
       "        text-align: right;\n",
       "    }\n",
       "</style>\n",
       "<table border=\"1\" class=\"dataframe\">\n",
       "  <thead>\n",
       "    <tr style=\"text-align: right;\">\n",
       "      <th></th>\n",
       "      <th>departments</th>\n",
       "    </tr>\n",
       "  </thead>\n",
       "  <tbody>\n",
       "    <tr>\n",
       "      <th>0</th>\n",
       "      <td>{'departmentId': 1, 'displayName': 'American D...</td>\n",
       "    </tr>\n",
       "    <tr>\n",
       "      <th>1</th>\n",
       "      <td>{'departmentId': 3, 'displayName': 'Ancient Ne...</td>\n",
       "    </tr>\n",
       "    <tr>\n",
       "      <th>2</th>\n",
       "      <td>{'departmentId': 4, 'displayName': 'Arms and A...</td>\n",
       "    </tr>\n",
       "    <tr>\n",
       "      <th>3</th>\n",
       "      <td>{'departmentId': 5, 'displayName': 'Arts of Af...</td>\n",
       "    </tr>\n",
       "    <tr>\n",
       "      <th>4</th>\n",
       "      <td>{'departmentId': 6, 'displayName': 'Asian Art'}</td>\n",
       "    </tr>\n",
       "  </tbody>\n",
       "</table>\n",
       "</div>"
      ],
      "text/plain": [
       "                                         departments\n",
       "0  {'departmentId': 1, 'displayName': 'American D...\n",
       "1  {'departmentId': 3, 'displayName': 'Ancient Ne...\n",
       "2  {'departmentId': 4, 'displayName': 'Arms and A...\n",
       "3  {'departmentId': 5, 'displayName': 'Arts of Af...\n",
       "4    {'departmentId': 6, 'displayName': 'Asian Art'}"
      ]
     },
     "execution_count": 18,
     "metadata": {},
     "output_type": "execute_result"
    }
   ],
   "source": [
    "df.head()"
   ]
  },
  {
   "cell_type": "code",
   "execution_count": 19,
   "metadata": {},
   "outputs": [
    {
     "data": {
      "text/html": [
       "<div>\n",
       "<style scoped>\n",
       "    .dataframe tbody tr th:only-of-type {\n",
       "        vertical-align: middle;\n",
       "    }\n",
       "\n",
       "    .dataframe tbody tr th {\n",
       "        vertical-align: top;\n",
       "    }\n",
       "\n",
       "    .dataframe thead th {\n",
       "        text-align: right;\n",
       "    }\n",
       "</style>\n",
       "<table border=\"1\" class=\"dataframe\">\n",
       "  <thead>\n",
       "    <tr style=\"text-align: right;\">\n",
       "      <th></th>\n",
       "      <th>departments</th>\n",
       "    </tr>\n",
       "  </thead>\n",
       "  <tbody>\n",
       "    <tr>\n",
       "      <th>count</th>\n",
       "      <td>19</td>\n",
       "    </tr>\n",
       "    <tr>\n",
       "      <th>unique</th>\n",
       "      <td>19</td>\n",
       "    </tr>\n",
       "    <tr>\n",
       "      <th>top</th>\n",
       "      <td>{'departmentId': 1, 'displayName': 'American D...</td>\n",
       "    </tr>\n",
       "    <tr>\n",
       "      <th>freq</th>\n",
       "      <td>1</td>\n",
       "    </tr>\n",
       "  </tbody>\n",
       "</table>\n",
       "</div>"
      ],
      "text/plain": [
       "                                              departments\n",
       "count                                                  19\n",
       "unique                                                 19\n",
       "top     {'departmentId': 1, 'displayName': 'American D...\n",
       "freq                                                    1"
      ]
     },
     "execution_count": 19,
     "metadata": {},
     "output_type": "execute_result"
    }
   ],
   "source": [
    "df.describe()"
   ]
  },
  {
   "cell_type": "markdown",
   "metadata": {},
   "source": [
    "We have 19 unique departments to pull data from. What are they?"
   ]
  },
  {
   "cell_type": "code",
   "execution_count": 20,
   "metadata": {},
   "outputs": [
    {
     "name": "stdout",
     "output_type": "stream",
     "text": [
      "                                          departments\n",
      "0   {'departmentId': 1, 'displayName': 'American D...\n",
      "1   {'departmentId': 3, 'displayName': 'Ancient Ne...\n",
      "2   {'departmentId': 4, 'displayName': 'Arms and A...\n",
      "3   {'departmentId': 5, 'displayName': 'Arts of Af...\n",
      "4     {'departmentId': 6, 'displayName': 'Asian Art'}\n",
      "5   {'departmentId': 7, 'displayName': 'The Cloist...\n",
      "6   {'departmentId': 8, 'displayName': 'The Costum...\n",
      "7   {'departmentId': 9, 'displayName': 'Drawings a...\n",
      "8   {'departmentId': 10, 'displayName': 'Egyptian ...\n",
      "9   {'departmentId': 11, 'displayName': 'European ...\n",
      "10  {'departmentId': 12, 'displayName': 'European ...\n",
      "11  {'departmentId': 13, 'displayName': 'Greek and...\n",
      "12  {'departmentId': 14, 'displayName': 'Islamic A...\n",
      "13  {'departmentId': 15, 'displayName': 'The Rober...\n",
      "14  {'departmentId': 16, 'displayName': 'The Libra...\n",
      "15  {'departmentId': 17, 'displayName': 'Medieval ...\n",
      "16  {'departmentId': 18, 'displayName': 'Musical I...\n",
      "17  {'departmentId': 19, 'displayName': 'Photograp...\n",
      "18  {'departmentId': 21, 'displayName': 'Modern Art'}\n"
     ]
    }
   ],
   "source": [
    "print (df)"
   ]
  },
  {
   "cell_type": "markdown",
   "metadata": {},
   "source": [
    "Okay. I think I want to work with a specific collection next. Medieval Art sounds interesting. Department ID #17. Let's pull that one next. "
   ]
  },
  {
   "cell_type": "code",
   "execution_count": 22,
   "metadata": {},
   "outputs": [],
   "source": [
    "r2 = requests.get('https://collectionapi.metmuseum.org/public/collection/v1/objects?departmentIds=17')"
   ]
  },
  {
   "cell_type": "code",
   "execution_count": 23,
   "metadata": {},
   "outputs": [],
   "source": [
    "art_data2=r2.json()"
   ]
  },
  {
   "cell_type": "markdown",
   "metadata": {},
   "source": [
    "Create another variable to store this new df. "
   ]
  },
  {
   "cell_type": "code",
   "execution_count": 24,
   "metadata": {},
   "outputs": [],
   "source": [
    "df2 = pd.DataFrame(art_data2)"
   ]
  },
  {
   "cell_type": "markdown",
   "metadata": {},
   "source": [
    "Let's see what we have to work with. "
   ]
  },
  {
   "cell_type": "code",
   "execution_count": 25,
   "metadata": {},
   "outputs": [
    {
     "data": {
      "text/html": [
       "<div>\n",
       "<style scoped>\n",
       "    .dataframe tbody tr th:only-of-type {\n",
       "        vertical-align: middle;\n",
       "    }\n",
       "\n",
       "    .dataframe tbody tr th {\n",
       "        vertical-align: top;\n",
       "    }\n",
       "\n",
       "    .dataframe thead th {\n",
       "        text-align: right;\n",
       "    }\n",
       "</style>\n",
       "<table border=\"1\" class=\"dataframe\">\n",
       "  <thead>\n",
       "    <tr style=\"text-align: right;\">\n",
       "      <th></th>\n",
       "      <th>total</th>\n",
       "      <th>objectIDs</th>\n",
       "    </tr>\n",
       "  </thead>\n",
       "  <tbody>\n",
       "    <tr>\n",
       "      <th>0</th>\n",
       "      <td>7142</td>\n",
       "      <td>32830</td>\n",
       "    </tr>\n",
       "    <tr>\n",
       "      <th>1</th>\n",
       "      <td>7142</td>\n",
       "      <td>32831</td>\n",
       "    </tr>\n",
       "    <tr>\n",
       "      <th>2</th>\n",
       "      <td>7142</td>\n",
       "      <td>32832</td>\n",
       "    </tr>\n",
       "    <tr>\n",
       "      <th>3</th>\n",
       "      <td>7142</td>\n",
       "      <td>32833</td>\n",
       "    </tr>\n",
       "    <tr>\n",
       "      <th>4</th>\n",
       "      <td>7142</td>\n",
       "      <td>32834</td>\n",
       "    </tr>\n",
       "  </tbody>\n",
       "</table>\n",
       "</div>"
      ],
      "text/plain": [
       "   total  objectIDs\n",
       "0   7142      32830\n",
       "1   7142      32831\n",
       "2   7142      32832\n",
       "3   7142      32833\n",
       "4   7142      32834"
      ]
     },
     "execution_count": 25,
     "metadata": {},
     "output_type": "execute_result"
    }
   ],
   "source": [
    "df2.head()"
   ]
  },
  {
   "cell_type": "markdown",
   "metadata": {},
   "source": [
    "There are 7142 items in this collection. "
   ]
  },
  {
   "cell_type": "code",
   "execution_count": 27,
   "metadata": {},
   "outputs": [
    {
     "data": {
      "text/html": [
       "<div>\n",
       "<style scoped>\n",
       "    .dataframe tbody tr th:only-of-type {\n",
       "        vertical-align: middle;\n",
       "    }\n",
       "\n",
       "    .dataframe tbody tr th {\n",
       "        vertical-align: top;\n",
       "    }\n",
       "\n",
       "    .dataframe thead th {\n",
       "        text-align: right;\n",
       "    }\n",
       "</style>\n",
       "<table border=\"1\" class=\"dataframe\">\n",
       "  <thead>\n",
       "    <tr style=\"text-align: right;\">\n",
       "      <th></th>\n",
       "      <th>total</th>\n",
       "      <th>objectIDs</th>\n",
       "    </tr>\n",
       "  </thead>\n",
       "  <tbody>\n",
       "    <tr>\n",
       "      <th>7137</th>\n",
       "      <td>7142</td>\n",
       "      <td>812958</td>\n",
       "    </tr>\n",
       "    <tr>\n",
       "      <th>7138</th>\n",
       "      <td>7142</td>\n",
       "      <td>812961</td>\n",
       "    </tr>\n",
       "    <tr>\n",
       "      <th>7139</th>\n",
       "      <td>7142</td>\n",
       "      <td>812963</td>\n",
       "    </tr>\n",
       "    <tr>\n",
       "      <th>7140</th>\n",
       "      <td>7142</td>\n",
       "      <td>812964</td>\n",
       "    </tr>\n",
       "    <tr>\n",
       "      <th>7141</th>\n",
       "      <td>7142</td>\n",
       "      <td>812965</td>\n",
       "    </tr>\n",
       "  </tbody>\n",
       "</table>\n",
       "</div>"
      ],
      "text/plain": [
       "      total  objectIDs\n",
       "7137   7142     812958\n",
       "7138   7142     812961\n",
       "7139   7142     812963\n",
       "7140   7142     812964\n",
       "7141   7142     812965"
      ]
     },
     "execution_count": 27,
     "metadata": {},
     "output_type": "execute_result"
    }
   ],
   "source": [
    "df2.tail()"
   ]
  },
  {
   "cell_type": "markdown",
   "metadata": {},
   "source": [
    "Let's pull info on a random object in this collection. "
   ]
  },
  {
   "cell_type": "code",
   "execution_count": 28,
   "metadata": {},
   "outputs": [],
   "source": [
    "r3=requests.get('https://collectionapi.metmuseum.org/public/collection/v1/objects/812961')\n"
   ]
  },
  {
   "cell_type": "code",
   "execution_count": 30,
   "metadata": {},
   "outputs": [],
   "source": [
    "object_data=r3.json()"
   ]
  },
  {
   "cell_type": "markdown",
   "metadata": {},
   "source": [
    "What info is available for this random object?"
   ]
  },
  {
   "cell_type": "code",
   "execution_count": 31,
   "metadata": {},
   "outputs": [
    {
     "name": "stdout",
     "output_type": "stream",
     "text": [
      "{'objectID': 812961, 'isHighlight': False, 'accessionNumber': '2018.913.5', 'accessionYear': '2018', 'isPublicDomain': True, 'primaryImage': 'https://images.metmuseum.org/CRDImages/md/original/LC_TR_311_6_2018-s01.jpg', 'primaryImageSmall': 'https://images.metmuseum.org/CRDImages/md/web-large/LC_TR_311_6_2018-s01.jpg', 'additionalImages': [], 'constituents': None, 'department': 'Medieval Art', 'objectName': 'Textile', 'title': 'Wool Roundel with Mythological Animal', 'culture': 'Egyptian', 'period': '', 'dynasty': '', 'reign': '', 'portfolio': '', 'artistRole': '', 'artistPrefix': '', 'artistDisplayName': '', 'artistDisplayBio': '', 'artistSuffix': '', 'artistAlphaSort': '', 'artistNationality': '', 'artistBeginDate': '', 'artistEndDate': '', 'artistGender': '', 'artistWikidata_URL': '', 'artistULAN_URL': '', 'objectDate': '7th–9th century', 'objectBeginDate': 600, 'objectEndDate': 900, 'medium': 'Polychrome wool and undyed linen; tapestry weave', 'dimensions': '8 3/8 × 5 3/16 in. (21.3 × 13.1 cm)\\r\\nMount: 11 5/8 × 8 1/16 × 1 3/16 in. (29.5 × 20.4 × 3 cm)', 'measurements': [{'elementName': 'Overall', 'elementDescription': None, 'elementMeasurements': {'Height': 21.3, 'Width': 13.1}}, {'elementName': 'Mount', 'elementDescription': None, 'elementMeasurements': {'Depth': 3, 'Height': 29.5, 'Width': 20.4}}], 'creditLine': 'Gift of Dr. Marilyn Jenkins-Madina, in loving memory of her husband, Professor Maan Z. Madina, 2018', 'geographyType': '', 'city': '', 'state': '', 'county': '', 'country': '', 'region': '', 'subregion': '', 'locale': '', 'locus': '', 'excavation': '', 'river': '', 'classification': 'Textiles-Woven', 'rightsAndReproduction': '', 'linkResource': '', 'metadataDate': '2020-03-31T04:44:12.95Z', 'repository': 'Metropolitan Museum of Art, New York, NY', 'objectURL': 'https://www.metmuseum.org/art/collection/search/812961', 'tags': None, 'objectWikidata_URL': '', 'isTimelineWork': False, 'GalleryNumber': ''}\n"
     ]
    }
   ],
   "source": [
    "print(object_data)"
   ]
  },
  {
   "cell_type": "markdown",
   "metadata": {},
   "source": [
    "How do I see all the objects listed as 'Egyptian' culture within the Medieval Art dataset? "
   ]
  }
 ],
 "metadata": {
  "kernelspec": {
   "display_name": "Python 3.10.7 64-bit",
   "language": "python",
   "name": "python3"
  },
  "language_info": {
   "codemirror_mode": {
    "name": "ipython",
    "version": 3
   },
   "file_extension": ".py",
   "mimetype": "text/x-python",
   "name": "python",
   "nbconvert_exporter": "python",
   "pygments_lexer": "ipython3",
   "version": "3.10.7"
  },
  "orig_nbformat": 4,
  "vscode": {
   "interpreter": {
    "hash": "2e9c25df0253b19710fd2eabc0119b804c820fc74e8ba938ebab686d76fc4dfb"
   }
  }
 },
 "nbformat": 4,
 "nbformat_minor": 2
}
